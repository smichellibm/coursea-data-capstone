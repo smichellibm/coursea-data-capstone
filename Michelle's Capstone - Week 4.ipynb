{
 "cells": [
  {
   "cell_type": "markdown",
   "metadata": {
    "collapsed": true
   },
   "source": [
    "# Michelle's Applied Data Science Capstone Project - The Battle of Neighborhoods"
   ]
  },
  {
   "cell_type": "markdown",
   "metadata": {},
   "source": [
    "## Description of the problem and a discussion of the background."
   ]
  },
  {
   "cell_type": "markdown",
   "metadata": {},
   "source": [
    "### Opening of a new Pet Supply Store in or near Austin, Texas.\n",
    "\n",
    "A friend is looking for the best place around Austin, Texas to open a new family owned Pet Supply Store.\n",
    "Austin and the surrounding suburbs (Cedar Park, Georgetown, Round Rock, etc) are generally known to be pet friendly. There\n",
    "are several \"large box store\" pet supply places already, but the friend feels that providing a more personalized experience and \n",
    "potentially carrying more unique items/foods in addition to the most popular items at the box store places, he has the potential\n",
    "to bring in the needed customer base to do well.\n",
    "\n",
    "The friend is looking for the overall best areas near Austin to place his store where there is not already a large population of other pet stores.\n",
    "We will limit the data to the top 5 best choice locations.\n",
    "\n",
    "The friend is also looking for items at the box stores with the largest number of 4+ star reviews."
   ]
  },
  {
   "cell_type": "markdown",
   "metadata": {},
   "source": [
    "## Description of the data and how it will be used to solve the problem."
   ]
  },
  {
   "cell_type": "markdown",
   "metadata": {},
   "source": [
    "### Data Used\n",
    "\n",
    "Austin is surrounded by several suburbs (Cedar Park, Round Rock, Georgetown, etc).\n",
    "\n",
    "The data regarding the main city and the suburbs needs to be researched and a suitable useable source identified.\n",
    "If it is found but is not in a useable form, data cleaning and manipulation will need to be performed.\n",
    "\n",
    "The cleansed data will then be used along with Foursquare data. \n",
    "Foursquare location data will be leveraged to explore or compare the different areas around Austin, identifying \n",
    "high traffic areas, but with fewer existing Pet Supply Stores.  Existence of nearby Pet Rescue/Shelters will also be taken into consideration.\n",
    "\n",
    "The Data Science Workflow for Week 2 will be:\n",
    "\n",
    "* Data Analysis and Location Data:\n",
    "Foursquare location data will be leveraged to explore or compare districts around Paris.\n",
    "Data manipulation and analysis to derive subsets of the initial data.\n",
    "Identifying the high traffic areas using data visualisation and tatistical nalysis.\n",
    "\n",
    "* Visualization:\n",
    "Analysis and plotting visualizations.\n",
    "Data visualization using various mapping libraries.\n",
    "\n",
    "* Conclusions:\n",
    "Recomendations and results based on the data analysis.\n",
    "Discussion of any limitations and how the results can be used, and any conclusions that can be drawn."
   ]
  },
  {
   "cell_type": "code",
   "execution_count": null,
   "metadata": {},
   "outputs": [],
   "source": []
  }
 ],
 "metadata": {
  "kernelspec": {
   "display_name": "Python 3.6",
   "language": "python",
   "name": "python3"
  },
  "language_info": {
   "codemirror_mode": {
    "name": "ipython",
    "version": 3
   },
   "file_extension": ".py",
   "mimetype": "text/x-python",
   "name": "python",
   "nbconvert_exporter": "python",
   "pygments_lexer": "ipython3",
   "version": "3.6.9"
  }
 },
 "nbformat": 4,
 "nbformat_minor": 1
}
